{
 "cells": [
  {
   "cell_type": "code",
   "execution_count": null,
   "metadata": {},
   "outputs": [],
   "source": [
    "def detect_outliers(data,features):\n",
    "    '''\n",
    "    Ésta función realiza un bucle para pasar por todas las columnas que indiquemos\n",
    "    y calcula los valores que se encuentran fuera de los limites de los cuantiles 1 y 3,\n",
    "    mete en una lista los indices de los valores y cuenta cuantas veces se repiten entre todas las columnas.\n",
    "    Si el indice lo detecta como outlier en mas de dos columnas mete el indice \n",
    "    en la lista de outlier del dataframe.\n",
    "\n",
    "    Args: \n",
    "        -data(DataFrame): Base de datos que tiene todas las columnas que queremos revisar\n",
    "\n",
    "        -features(columnas): Nombre de todas las columnas que contiene el dataframe a revisar,\n",
    "        se puede introducir data.columns.\n",
    "\n",
    "    Return:\n",
    "        devuelve una lista con los indices que estan fuera de los cuantiles 1 y 3 en \n",
    "        mas de dos columnas del DataFrame.\n",
    "\n",
    "    Agradecimientos a:\n",
    "     Enes Besinci. Enlace a kaggle-->https://www.kaggle.com/enesbeinci\n",
    "    '''\n",
    "    import numpy as np\n",
    "    from collections import Counter\n",
    "    outlier_indices = []\n",
    "    \n",
    "    for c in features:\n",
    "        # 1st quartile\n",
    "        Q1 = np.percentile(data[c],25)\n",
    "        # 3rd quartile\n",
    "        Q3 = np.percentile(data[c],75)\n",
    "        # IQR\n",
    "        IQR = Q3 - Q1\n",
    "        # Outlier step\n",
    "        outlier_step = IQR * 1.5\n",
    "        # detect outlier and their indeces\n",
    "        outlier_list_col = data[(data[c] < Q1 - outlier_step) | (data[c] > Q3 + outlier_step)].index\n",
    "        # store indeces\n",
    "        outlier_indices.extend(outlier_list_col)\n",
    "    \n",
    "    outlier_indices = Counter(outlier_indices)\n",
    "    multiple_outliers = list(i for i, v in outlier_indices.items() if v > 2)\n",
    "    \n",
    "    return multiple_outliers"
   ]
  }
 ],
 "metadata": {
  "kernelspec": {
   "display_name": "Python 3.7.4 64-bit",
   "language": "python",
   "name": "python3"
  },
  "language_info": {
   "name": "python",
   "version": "3.7.4"
  },
  "orig_nbformat": 4,
  "vscode": {
   "interpreter": {
    "hash": "ddd14c5522b8c89e74d6fdb2089acb05daac4aee5b6b35e5bfccff2f461e99a6"
   }
  }
 },
 "nbformat": 4,
 "nbformat_minor": 2
}
